{
 "cells": [
  {
   "cell_type": "code",
   "execution_count": 1,
   "id": "ea46e363",
   "metadata": {},
   "outputs": [],
   "source": [
    "from sklearn.datasets import fetch_20newsgroups\n",
    "import pandas as pd\n",
    "\n",
    "def df_from_20ng(subset):\n",
    "    newsgroups_train  = fetch_20newsgroups(subset='train')\n",
    "    ngdata = {\"text\": newsgroups_train.data, \"target\": newsgroups_train.target}\n",
    "    df = pd.DataFrame.from_dict(ngdata)\n",
    "    df['target_name'] = df.target.apply(lambda x: newsgroups_train.target_names[x])\n",
    "\n",
    "    return df\n",
    "\n",
    "\n",
    "df_train = df_from_20ng('train')\n",
    "df_test = df_from_20ng('test')\n",
    "\n",
    "X_train = df_train.drop(columns=['target','target_name'])\n",
    "y_train = df_train['target_name']\n",
    "X_test = df_test.drop(columns=['target','target_name'])\n",
    "y_test = df_test['target_name']"
   ]
  },
  {
   "cell_type": "code",
   "execution_count": 2,
   "id": "f36560b7",
   "metadata": {},
   "outputs": [],
   "source": [
    "from sklearn.compose import ColumnTransformer\n",
    "from sklearn.feature_extraction.text import TfidfVectorizer\n",
    "from sklearn.pipeline import Pipeline\n",
    "from sklearn.ensemble import RandomForestClassifier\n",
    "\n",
    "ct = ColumnTransformer([\n",
    "    ('tfidf', TfidfVectorizer(max_features=5000), 'text')\n",
    "])\n",
    "\n",
    "pipe = Pipeline([\n",
    "    ('ctransformer', ct),\n",
    "    ('clf', RandomForestClassifier(n_estimators=10, max_depth=20))\n",
    "])"
   ]
  },
  {
   "cell_type": "code",
   "execution_count": 1,
   "id": "43ae723c",
   "metadata": {},
   "outputs": [
    {
     "ename": "NameError",
     "evalue": "name 'pipe' is not defined",
     "output_type": "error",
     "traceback": [
      "\u001b[1;31m---------------------------------------------------------------------------\u001b[0m",
      "\u001b[1;31mNameError\u001b[0m                                 Traceback (most recent call last)",
      "Input \u001b[1;32mIn [1]\u001b[0m, in \u001b[0;36m<cell line: 15>\u001b[1;34m()\u001b[0m\n\u001b[0;32m     10\u001b[0m mlflow\u001b[38;5;241m.\u001b[39mset_experiment(\u001b[38;5;124m\"\u001b[39m\u001b[38;5;124mMy NLP Model\u001b[39m\u001b[38;5;124m\"\u001b[39m)\n\u001b[0;32m     15\u001b[0m \u001b[38;5;28;01mwith\u001b[39;00m mlflow\u001b[38;5;241m.\u001b[39mstart_run(run_name\u001b[38;5;241m=\u001b[39m\u001b[38;5;124m\"\u001b[39m\u001b[38;5;124mTFIDF + Random Forest\u001b[39m\u001b[38;5;124m\"\u001b[39m):\n\u001b[1;32m---> 17\u001b[0m     \u001b[43mpipe\u001b[49m\u001b[38;5;241m.\u001b[39mfit(X_train,y_train)\n\u001b[0;32m     19\u001b[0m     y_pred \u001b[38;5;241m=\u001b[39m pipe\u001b[38;5;241m.\u001b[39mpredict(X_test)\n\u001b[0;32m     21\u001b[0m     mlflow\u001b[38;5;241m.\u001b[39mset_tag(\u001b[38;5;124m'\u001b[39m\u001b[38;5;124mclient\u001b[39m\u001b[38;5;124m'\u001b[39m,\u001b[38;5;124m'\u001b[39m\u001b[38;5;124mThat Email Company\u001b[39m\u001b[38;5;124m'\u001b[39m)\n",
      "\u001b[1;31mNameError\u001b[0m: name 'pipe' is not defined"
     ]
    }
   ],
   "source": [
    "import mlflow\n",
    "import mlflow.sklearn\n",
    "import json\n",
    "import os\n",
    "import tempfile\n",
    "\n",
    "from sklearn.metrics import f1_score, classification_report, plot_confusion_matrix\n",
    "from mlflow.models.signature import infer_signature\n",
    "\n",
    "mlflow.set_experiment(\"My NLP Model\")\n",
    "\n",
    "\n",
    "\n",
    "\n",
    "with mlflow.start_run(run_name=\"TFIDF + Random Forest\"):\n",
    "\n",
    "    pipe.fit(X_train,y_train)\n",
    "\n",
    "    y_pred = pipe.predict(X_test)\n",
    "\n",
    "    mlflow.set_tag('client','That Email Company')\n",
    "\n",
    "    signature = infer_signature(X_test, y_test)\n",
    "    \n",
    "    mlflow.log_metric('f1', f1_score(y_test, y_pred, average='micro'))\n",
    "    mlflow.sklearn.log_model(pipe, \"model\", signature=signature)\n",
    "    \n",
    "    with tempfile.TemporaryDirectory() as tmpdir:\n",
    "        \n",
    "        report = classification_report(y_test, y_pred, output_dict=True)\n",
    "        \n",
    "        with open(os.path.join(tmpdir, \"classification_report.json\"),'w') as f:\n",
    "            json.dump(report, f, indent=2)\n",
    "            \n",
    "        mlflow.log_artifacts(tmpdir, \"reporting\")"
   ]
  },
  {
   "cell_type": "code",
   "execution_count": 8,
   "id": "66708527",
   "metadata": {},
   "outputs": [
    {
     "name": "stdout",
     "output_type": "stream",
     "text": [
      "This predictor only supports the following content types and formats: Types: ['text/csv', 'application/json', 'application/json-numpy-split']; Formats: ['pandas-records', 'pandas-split']. Got 'application/x-www-form-urlencoded'.\n"
     ]
    },
    {
     "name": "stderr",
     "output_type": "stream",
     "text": [
      "  % Total    % Received % Xferd  Average Speed   Time    Time     Time  Current\n",
      "                                 Dload  Upload   Total   Spent    Left  Speed\n",
      "\n",
      "  0     0    0     0    0     0      0      0 --:--:-- --:--:-- --:--:--     0\n",
      "100   298  100   228  100    70   200k  63006 --:--:-- --:--:-- --:--:--  291k\n",
      "  % Total    % Received % Xferd  Average Speed   Time    Time     Time  Current\n",
      "                                 Dload  Upload   Total   Spent    Left  Speed\n",
      "\n",
      "  0     0    0     0    0     0      0      0 --:--:-- --:--:-- --:--:--     0\n",
      "  0     0    0     0    0     0      0      0 --:--:-- --:--:-- --:--:--     0\n",
      "  0     0    0     0    0     0      0      0 --:--:--  0:00:01 --:--:--     0\n",
      "  0     0    0     0    0     0      0      0 --:--:--  0:00:02 --:--:--     0curl: (6) Could not resolve host: application\n",
      "  % Total    % Received % Xferd  Average Speed   Time    Time     Time  Current\n",
      "                                 Dload  Upload   Total   Spent    Left  Speed\n",
      "\n",
      "  0     0    0     0    0     0      0      0 --:--:-- --:--:-- --:--:--     0curl: (6) Could not resolve host: format=pandas-records'\n"
     ]
    }
   ],
   "source": [
    "!curl --request POST --url http://127.0.0.1:5000/invocations --header 'Content-Type: application/json; format=pandas-records' --data '[{\"text\":\"hey, I have an old bicycle for sale in the Southampton area\"}]'"
   ]
  },
  {
   "cell_type": "code",
   "execution_count": null,
   "id": "e6bf8ced",
   "metadata": {},
   "outputs": [],
   "source": [
    "curl -X POST http://127.0.0.1:1234/invocations -H \"Content-Type:application/json; format=pandas-split\" --data '{\"columns\":[\"alcohol\", \"chlorides\", \"citric acid\", \"density\", \"fixed acidity\", \"free sulfur dioxide\", \"pH\", \"residual sugar\", \"sulphates\", \"total sulfur dioxide\", \"volatile acidity\"],\"data\":[[12.8, 0.029, 0.48, 0.98, 6.2, 29, 3.33, 1.2, 0.39, 75, 0.66]]}' "
   ]
  }
 ],
 "metadata": {
  "kernelspec": {
   "display_name": "Python 3 (ipykernel)",
   "language": "python",
   "name": "python3"
  },
  "language_info": {
   "codemirror_mode": {
    "name": "ipython",
    "version": 3
   },
   "file_extension": ".py",
   "mimetype": "text/x-python",
   "name": "python",
   "nbconvert_exporter": "python",
   "pygments_lexer": "ipython3",
   "version": "3.8.0"
  }
 },
 "nbformat": 4,
 "nbformat_minor": 5
}
